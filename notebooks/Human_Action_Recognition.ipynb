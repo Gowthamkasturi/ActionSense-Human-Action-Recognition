This Jupyter Notebook performs:

Exploratory Data Analysis

Train/Test Split

Random Forest Classifier

Accuracy Score and Confusion Matrix
